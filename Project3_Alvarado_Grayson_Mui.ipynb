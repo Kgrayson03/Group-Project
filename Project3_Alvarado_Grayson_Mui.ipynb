{
  "nbformat": 4,
  "nbformat_minor": 0,
  "metadata": {
    "colab": {
      "name": "Project3_Alvarado_Grayson_Mui.ipynb",
      "provenance": [],
      "collapsed_sections": [],
      "include_colab_link": true
    },
    "kernelspec": {
      "name": "python3",
      "display_name": "Python 3"
    }
  },
  "cells": [
    {
      "cell_type": "markdown",
      "metadata": {
        "id": "view-in-github",
        "colab_type": "text"
      },
      "source": [
        "<a href=\"https://colab.research.google.com/github/Kgrayson03/Group-Project/blob/master/Project3_Alvarado_Grayson_Mui.ipynb\" target=\"_parent\"><img src=\"https://colab.research.google.com/assets/colab-badge.svg\" alt=\"Open In Colab\"/></a>"
      ]
    },
    {
      "cell_type": "code",
      "metadata": {
        "id": "d68ZDKPWZIEV",
        "colab_type": "code",
        "colab": {
          "base_uri": "https://localhost:8080/",
          "height": 445
        },
        "outputId": "34ad3642-1d32-4037-9273-15f811250db3"
      },
      "source": [
        "#2011-2016 \n",
        "# top 10 popular names by year & gender (2011, 2012, 2013, 2014, 2015, 2016)\n",
        "# top top popular names by ethnicity \n",
        "# rank increase of name in popularity over the years \n",
        "# look specifically at our names - Erika, Kourtney, Michele\n",
        "# trend top name --> link to movie & popularity  \n",
        "\n",
        "%matplotlib inline\n",
        "import matplotlib.pyplot as plt\n",
        "import pandas as pd\n",
        "import numpy as np\n",
        "import seaborn as sns\n",
        "baby = pd.read_csv(\"https://data.cityofnewyork.us/api/views/25th-nujf/rows.csv\")\n",
        "#baby.head(100)\n",
        "\n",
        "#Data Scrub - Update Child's First Name to All Caps\n",
        "baby[\"Child's First Name\"] = baby[\"Child's First Name\"].apply(lambda x: x.upper())\n",
        "\n",
        "#Drop Duplicates\n",
        "baby.drop_duplicates(keep='first',inplace=True)\n",
        "#print(baby)\n",
        "\n",
        "#Total Babies Born by Year\n",
        "baby_year= baby.groupby(['Year of Birth'])['Count'].sum()\n",
        "print(baby_year)\n",
        "baby_year.plot(kind=\"bar\", x='Year of Birth', y='Count')"
      ],
      "execution_count": null,
      "outputs": [
        {
          "output_type": "stream",
          "text": [
            "Year of Birth\n",
            "2011    67924\n",
            "2012    70730\n",
            "2013    69344\n",
            "2014    70361\n",
            "2015    69600\n",
            "2016    68740\n",
            "Name: Count, dtype: int64\n"
          ],
          "name": "stdout"
        },
        {
          "output_type": "execute_result",
          "data": {
            "text/plain": [
              "<matplotlib.axes._subplots.AxesSubplot at 0x7f1bdc300780>"
            ]
          },
          "metadata": {
            "tags": []
          },
          "execution_count": 37
        },
        {
          "output_type": "display_data",
          "data": {
            "image/png": "[encoded data removed]",
            "text/plain": [
              "<Figure size 432x288 with 1 Axes>"
            ]
          },
          "metadata": {
            "tags": [],
            "needs_background": "light"
          }
        }
      ]
    },
    {
      "cell_type": "code",
      "metadata": {
        "id": "mVZHJqeJtr5v",
        "colab_type": "code",
        "colab": {
          "base_uri": "https://localhost:8080/",
          "height": 457
        },
        "outputId": "a0e6c935-b724-43db-a025-21c2dcde2217"
      },
      "source": [
        "%matplotlib inline\n",
        "import matplotlib.pyplot as plt\n",
        "import pandas as pd\n",
        "import numpy as np\n",
        "import seaborn as sns\n",
        "\n",
        "baby = pd.read_csv(\"https://data.cityofnewyork.us/api/views/25th-nujf/rows.csv\")\n",
        "baby.drop_duplicates(keep='first',inplace=True)\n",
        "baby[\"Child's First Name\"] = baby[\"Child's First Name\"].str.upper()\n",
        "\n",
        "GVB=baby.groupby([\"Gender\", 'Year of Birth'],as_index=False).agg({'Count': 'sum'}).sort_values(by = ['Count'] ,ascending=False)\n",
        "sns.catplot(x='Year of Birth', y='Count', hue='Gender', data=GVB ,height=6, kind=\"bar\", palette=\"muted\")\n"
      ],
      "execution_count": null,
      "outputs": [
        {
          "output_type": "execute_result",
          "data": {
            "text/plain": [
              "<seaborn.axisgrid.FacetGrid at 0x7f1bdc5d6080>"
            ]
          },
          "metadata": {
            "tags": []
          },
          "execution_count": 38
        },
        {
          "output_type": "display_data",
          "data": {
            "image/png": "[encoded data removed]",
            "text/plain": [
              "<Figure size 507.25x432 with 1 Axes>"
            ]
          },
          "metadata": {
            "tags": [],
            "needs_background": "light"
          }
        }
      ]
    },
    {
      "cell_type": "code",
      "metadata": {
        "id": "PsAOQ_FgixH9",
        "colab_type": "code",
        "colab": {}
      },
      "source": [
        ""
      ],
      "execution_count": null,
      "outputs": []
    },
    {
      "cell_type": "code",
      "metadata": {
        "id": "jP60BocA7WBt",
        "colab_type": "code",
        "colab": {
          "base_uri": "https://localhost:8080/",
          "height": 457
        },
        "outputId": "a1f3ef29-2a81-4de0-ede0-1a787d111135"
      },
      "source": [
        "%matplotlib inline\n",
        "import matplotlib.pyplot as plt\n",
        "import pandas as pd\n",
        "import numpy as np\n",
        "import seaborn as sns\n",
        "baby = pd.read_csv(\"https://data.cityofnewyork.us/api/views/25th-nujf/rows.csv\")\n",
        "#baby.head(100)\n",
        "\n",
        "#Data Scrub - Update Child's First Name to All Caps\n",
        "baby[\"Child's First Name\"] = baby[\"Child's First Name\"].apply(lambda x: x.upper())\n",
        "\n",
        "#Drop Duplicates\n",
        "baby.drop_duplicates(keep='first',inplace=True)\n",
        "\n",
        "\n",
        "#Standardize Ethnicity\n",
        "#baby = baby.replace(['WHITE NON HISP'],'WHITE NON HISPANIC')\n",
        "#baby = baby.replace(['BLACK NON HISP'],'BLACK NON HISPANIC')\n",
        "#baby = baby.replace(['ASIAN AND PACI'],'ASIAN AND PACIFIC ISLANDER')\n",
        "\n",
        "baby = baby.replace(['WHITE NON HISP', 'BLACK NON HISP', 'ASIAN AND PACI'],['WHITE NON HISPANIC', 'BLACK NON HISPANIC', 'ASIAN AND PACIFIC ISLANDER'])\n",
        "\n",
        "#Total Babies Born by Year & Ethnicity\n",
        "baby_year_eth= baby.groupby(['Year of Birth', 'Ethnicity'],as_index=False).agg({'Count': 'sum'}).sort_values(by = ['Count'] ,ascending=False)\n",
        "#baby_year_eth.plot(kind=\"bar\", x='Year of Birth', y='Count')\n",
        "sns.catplot(x='Year of Birth', y='Count', hue='Ethnicity', data=baby_year_eth ,height=6, kind=\"bar\", palette=\"muted\")\n",
        "\n"
      ],
      "execution_count": null,
      "outputs": [
        {
          "output_type": "execute_result",
          "data": {
            "text/plain": [
              "<seaborn.axisgrid.FacetGrid at 0x7f1bdbf11898>"
            ]
          },
          "metadata": {
            "tags": []
          },
          "execution_count": 48
        },
        {
          "output_type": "display_data",
          "data": {
            "image/png": "[encoded data removed]",
            "text/plain": [
              "<Figure size 617.375x432 with 1 Axes>"
            ]
          },
          "metadata": {
            "tags": [],
            "needs_background": "light"
          }
        }
      ]
    },
    {
      "cell_type": "code",
      "metadata": {
        "id": "ywatkpPAAin-",
        "colab_type": "code",
        "colab": {
          "base_uri": "https://localhost:8080/",
          "height": 533
        },
        "outputId": "aa936d88-fa0b-4a52-c903-952f633395d4"
      },
      "source": [
        "%matplotlib inline\n",
        "import matplotlib.pyplot as plt\n",
        "import pandas as pd\n",
        "import numpy as np\n",
        "baby = pd.read_csv(\"https://data.cityofnewyork.us/api/views/25th-nujf/rows.csv\")\n",
        "#baby.head(100)\n",
        "\n",
        "#Data Scrub - Update Child's First Name to All Caps\n",
        "#baby[\"Child's First Name\"] = baby[\"Child's First Name\"].apply(lambda x: x.upper())\n",
        "baby[\"Child's First Name\"] = baby[\"Child's First Name\"].str.upper()\n",
        "\n",
        "#Drop Duplicates\n",
        "baby.drop_duplicates(keep='first',inplace=True)\n",
        "#print(baby)\n",
        "\n",
        "#Top 10 Popular Names\n",
        "  #Female\n",
        "baby_fem=baby[(baby['Gender']=='FEMALE')]\n",
        "baby_fem=baby_fem.groupby([\"Child's First Name\"])['Count'].sum().sort_values(ascending=False).head(10)\n",
        "print(baby_fem)\n",
        "\n",
        "baby_fem.plot(kind=\"bar\", x=\"Child's First Name\", y='Count')"
      ],
      "execution_count": null,
      "outputs": [
        {
          "output_type": "stream",
          "text": [
            "Child's First Name\n",
            "SOPHIA      3431\n",
            "ISABELLA    3243\n",
            "OLIVIA      3083\n",
            "EMMA        2932\n",
            "MIA         2804\n",
            "EMILY       2518\n",
            "LEAH        2217\n",
            "MADISON     2083\n",
            "AVA         2074\n",
            "CHLOE       2046\n",
            "Name: Count, dtype: int64\n"
          ],
          "name": "stdout"
        },
        {
          "output_type": "execute_result",
          "data": {
            "text/plain": [
              "<matplotlib.axes._subplots.AxesSubplot at 0x7f1bdc60a860>"
            ]
          },
          "metadata": {
            "tags": []
          },
          "execution_count": 40
        },
        {
          "output_type": "display_data",
          "data": {
            "image/png": "[encoded data removed]",
            "text/plain": [
              "<Figure size 432x288 with 1 Axes>"
            ]
          },
          "metadata": {
            "tags": [],
            "needs_background": "light"
          }
        }
      ]
    },
    {
      "cell_type": "code",
      "metadata": {
        "id": "0n0U7Hdjy1Uw",
        "colab_type": "code",
        "colab": {
          "base_uri": "https://localhost:8080/",
          "height": 537
        },
        "outputId": "b65cc9be-040b-46f4-be12-ed5583215fd2"
      },
      "source": [
        "%matplotlib inline\n",
        "import matplotlib.pyplot as plt\n",
        "import pandas as pd\n",
        "import numpy as np\n",
        "baby = pd.read_csv(\"https://data.cityofnewyork.us/api/views/25th-nujf/rows.csv\")\n",
        "#baby.head(100)\n",
        "\n",
        "#Data Scrub - Update Child's First Name to All Caps\n",
        "#baby[\"Child's First Name\"] = baby[\"Child's First Name\"].apply(lambda x: x.upper())\n",
        "baby[\"Child's First Name\"] = baby[\"Child's First Name\"].str.upper()\n",
        "\n",
        "#Drop Duplicates\n",
        "baby.drop_duplicates(keep='first',inplace=True)\n",
        "#print(baby)\n",
        "\n",
        "#Top 10 Popular Names\n",
        "  #Male\n",
        "baby_male=baby[(baby['Gender']=='MALE')]\n",
        "baby_male=baby_male.groupby([\"Child's First Name\"])['Count'].sum().sort_values(ascending=False).head(10)\n",
        "print(baby_male)\n",
        "\n",
        "baby_male.plot(kind=\"bar\", x=\"Child's First Name\", y='Count')"
      ],
      "execution_count": null,
      "outputs": [
        {
          "output_type": "stream",
          "text": [
            "Child's First Name\n",
            "ETHAN      4245\n",
            "JACOB      3994\n",
            "JAYDEN     3954\n",
            "DANIEL     3463\n",
            "MATTHEW    3327\n",
            "MICHAEL    3279\n",
            "DAVID      3239\n",
            "NOAH       3231\n",
            "LIAM       3226\n",
            "AIDEN      3155\n",
            "Name: Count, dtype: int64\n"
          ],
          "name": "stdout"
        },
        {
          "output_type": "execute_result",
          "data": {
            "text/plain": [
              "<matplotlib.axes._subplots.AxesSubplot at 0x7f1bdf1e6cc0>"
            ]
          },
          "metadata": {
            "tags": []
          },
          "execution_count": 41
        },
        {
          "output_type": "display_data",
          "data": {
            "image/png": "[encoded data removed]",
            "text/plain": [
              "<Figure size 432x288 with 1 Axes>"
            ]
          },
          "metadata": {
            "tags": [],
            "needs_background": "light"
          }
        }
      ]
    },
    {
      "cell_type": "code",
      "metadata": {
        "id": "4T75Y-tkPsBD",
        "colab_type": "code",
        "colab": {
          "base_uri": "https://localhost:8080/",
          "height": 227
        },
        "outputId": "660d4cfb-1a05-4509-9cb6-025b55cc508b"
      },
      "source": [
        "%matplotlib inline\n",
        "import matplotlib.pyplot as plt\n",
        "import pandas as pd\n",
        "import numpy as np\n",
        "import seaborn as sns\n",
        "baby = pd.read_csv(\"https://data.cityofnewyork.us/api/views/25th-nujf/rows.csv\")\n",
        "baby.drop_duplicates(keep='first',inplace=True)\n",
        "baby[\"Child's First Name\"] = baby[\"Child's First Name\"].str.upper()\n",
        "baby_MI = baby[baby[\"Child's First Name\"] == 'MICHELLE']\n",
        "baby_MI.groupby(['Year of Birth',\"Child's First Name\"], as_index=False).agg({'Count': 'sum'})\n",
        "\n",
        "#comp=pd.merge(baby_KA,baby_CA, on=\"Year of Birth\")\n"
      ],
      "execution_count": null,
      "outputs": [
        {
          "output_type": "execute_result",
          "data": {
            "text/html": [
              "<div>\n",
              "<style scoped>\n",
              "    .dataframe tbody tr th:only-of-type {\n",
              "        vertical-align: middle;\n",
              "    }\n",
              "\n",
              "    .dataframe tbody tr th {\n",
              "        vertical-align: top;\n",
              "    }\n",
              "\n",
              "    .dataframe thead th {\n",
              "        text-align: right;\n",
              "    }\n",
              "</style>\n",
              "<table border=\"1\" class=\"dataframe\">\n",
              "  <thead>\n",
              "    <tr style=\"text-align: right;\">\n",
              "      <th></th>\n",
              "      <th>Year of Birth</th>\n",
              "      <th>Child's First Name</th>\n",
              "      <th>Count</th>\n",
              "    </tr>\n",
              "  </thead>\n",
              "  <tbody>\n",
              "    <tr>\n",
              "      <th>0</th>\n",
              "      <td>2011</td>\n",
              "      <td>MICHELLE</td>\n",
              "      <td>141</td>\n",
              "    </tr>\n",
              "    <tr>\n",
              "      <th>1</th>\n",
              "      <td>2012</td>\n",
              "      <td>MICHELLE</td>\n",
              "      <td>142</td>\n",
              "    </tr>\n",
              "    <tr>\n",
              "      <th>2</th>\n",
              "      <td>2013</td>\n",
              "      <td>MICHELLE</td>\n",
              "      <td>128</td>\n",
              "    </tr>\n",
              "    <tr>\n",
              "      <th>3</th>\n",
              "      <td>2014</td>\n",
              "      <td>MICHELLE</td>\n",
              "      <td>106</td>\n",
              "    </tr>\n",
              "    <tr>\n",
              "      <th>4</th>\n",
              "      <td>2015</td>\n",
              "      <td>MICHELLE</td>\n",
              "      <td>107</td>\n",
              "    </tr>\n",
              "    <tr>\n",
              "      <th>5</th>\n",
              "      <td>2016</td>\n",
              "      <td>MICHELLE</td>\n",
              "      <td>100</td>\n",
              "    </tr>\n",
              "  </tbody>\n",
              "</table>\n",
              "</div>"
            ],
            "text/plain": [
              "   Year of Birth Child's First Name  Count\n",
              "0           2011           MICHELLE    141\n",
              "1           2012           MICHELLE    142\n",
              "2           2013           MICHELLE    128\n",
              "3           2014           MICHELLE    106\n",
              "4           2015           MICHELLE    107\n",
              "5           2016           MICHELLE    100"
            ]
          },
          "metadata": {
            "tags": []
          },
          "execution_count": 50
        }
      ]
    },
    {
      "cell_type": "code",
      "metadata": {
        "id": "W-hZ_cckP7OF",
        "colab_type": "code",
        "colab": {
          "base_uri": "https://localhost:8080/",
          "height": 77
        },
        "outputId": "0e5e9cbf-d72c-4d64-c156-38b9137d887b"
      },
      "source": [
        "%matplotlib inline\n",
        "import matplotlib.pyplot as plt\n",
        "import pandas as pd\n",
        "import numpy as np\n",
        "import seaborn as sns\n",
        "baby = pd.read_csv(\"https://data.cityofnewyork.us/api/views/25th-nujf/rows.csv\")\n",
        "baby.drop_duplicates(keep='first',inplace=True)\n",
        "baby[\"Child's First Name\"] = baby[\"Child's First Name\"].str.upper()\n",
        "baby_KO = baby[baby[\"Child's First Name\"] == 'KOURTNEY']\n",
        "baby_KO.groupby(['Year of Birth',\"Child's First Name\"], as_index=False).agg({'Count': 'sum'})\n",
        "\n",
        "#comp=pd.merge(baby_KA,baby_CA, on=\"Year of Birth\")\n"
      ],
      "execution_count": null,
      "outputs": [
        {
          "output_type": "execute_result",
          "data": {
            "text/html": [
              "<div>\n",
              "<style scoped>\n",
              "    .dataframe tbody tr th:only-of-type {\n",
              "        vertical-align: middle;\n",
              "    }\n",
              "\n",
              "    .dataframe tbody tr th {\n",
              "        vertical-align: top;\n",
              "    }\n",
              "\n",
              "    .dataframe thead th {\n",
              "        text-align: right;\n",
              "    }\n",
              "</style>\n",
              "<table border=\"1\" class=\"dataframe\">\n",
              "  <thead>\n",
              "    <tr style=\"text-align: right;\">\n",
              "      <th></th>\n",
              "      <th>Year of Birth</th>\n",
              "      <th>Child's First Name</th>\n",
              "      <th>Count</th>\n",
              "    </tr>\n",
              "  </thead>\n",
              "  <tbody>\n",
              "    <tr>\n",
              "      <th>0</th>\n",
              "      <td>2013</td>\n",
              "      <td>KOURTNEY</td>\n",
              "      <td>12</td>\n",
              "    </tr>\n",
              "  </tbody>\n",
              "</table>\n",
              "</div>"
            ],
            "text/plain": [
              "   Year of Birth Child's First Name  Count\n",
              "0           2013           KOURTNEY     12"
            ]
          },
          "metadata": {
            "tags": []
          },
          "execution_count": 51
        }
      ]
    },
    {
      "cell_type": "code",
      "metadata": {
        "id": "sMH8Jdom6Pg1",
        "colab_type": "code",
        "colab": {
          "base_uri": "https://localhost:8080/",
          "height": 342
        },
        "outputId": "e1cc8fef-fb33-4fa1-d3ec-f05800e01461"
      },
      "source": [
        "%matplotlib inline\n",
        "import matplotlib.pyplot as plt\n",
        "import pandas as pd\n",
        "import numpy as np\n",
        "baby = pd.read_csv(\"https://data.cityofnewyork.us/api/views/25th-nujf/rows.csv\")\n",
        "baby = baby.replace(['WHITE NON HISP', 'BLACK NON HISP', 'ASIAN AND PACI'],['WHITE NON HISPANIC', 'BLACK NON HISPANIC', 'ASIAN AND PACIFIC ISLANDER'])\n",
        "baby.drop_duplicates(keep='first',inplace=True)\n",
        "baby[\"Child's First Name\"] = baby[\"Child's First Name\"].str.upper()\n",
        "KBABY=baby[(baby[\"Child's First Name\"]=='KAYDEN')| (baby[\"Child's First Name\"]=='KAIDEN') |(baby[\"Child's First Name\"]=='CAIDEN')|(baby[\"Child's First Name\"]=='CAYDEN')]\n",
        "KBABY.groupby([\"Child's First Name\",], as_index=False).agg({'Count': 'sum'}).sort_values(by = ['Count'] ,ascending=False).plot(kind='bar', x=\"Child's First Name\", y=\"Count\")\n",
        "plt.show\n",
        "plt.title('Ways to Spell K')\n",
        "plt.ylabel('Times Name Chosen')\n",
        "plt.xlabel(\"Child's First Name\")\n",
        "\n"
      ],
      "execution_count": null,
      "outputs": [
        {
          "output_type": "execute_result",
          "data": {
            "text/plain": [
              "Text(0.5, 0, \"Child's First Name\")"
            ]
          },
          "metadata": {
            "tags": []
          },
          "execution_count": 4
        },
        {
          "output_type": "display_data",
          "data": {
            "image/png": "[encoded data removed]",
            "text/plain": [
              "<Figure size 432x288 with 1 Axes>"
            ]
          },
          "metadata": {
            "tags": [],
            "needs_background": "light"
          }
        }
      ]
    },
    {
      "cell_type": "code",
      "metadata": {
        "id": "eM5fplVkRRBV",
        "colab_type": "code",
        "colab": {
          "base_uri": "https://localhost:8080/",
          "height": 366
        },
        "outputId": "7408b4f3-25d4-4709-9e0c-30cc9f5e5082"
      },
      "source": [
        "%matplotlib inline\n",
        "import matplotlib.pyplot as plt\n",
        "import pandas as pd\n",
        "import numpy as np\n",
        "import seaborn as sns\n",
        "baby = pd.read_csv(\"https://data.cityofnewyork.us/api/views/25th-nujf/rows.csv\")\n",
        "baby = baby.replace(['WHITE NON HISP', 'BLACK NON HISP', 'ASIAN AND PACI'],['WHITE NON HISPANIC', 'BLACK NON HISPANIC', 'ASIAN AND PACIFIC ISLANDER'])\n",
        "baby.drop_duplicates(keep='first',inplace=True)\n",
        "#Grouping of Top 5 Baby Names \n",
        "multi=baby[(baby[\"Child's First Name\"]=='ETHAN')| (baby[\"Child's First Name\"]=='JACOB') |(baby[\"Child's First Name\"]=='JAYDEN')|(baby[\"Child's First Name\"]=='DANIEL')|(baby[\"Child's First Name\"]=='SOPHIA')]\n",
        "multi.groupby(['Ethnicity','Rank',\"Child's First Name\"]).agg({'Count': 'sum'})\n",
        "#Horizontal Bar Graph\n",
        "sns.barplot(x=\"Rank\", y=\"Child's First Name\", hue='Ethnicity', data=multi, palette='Spectral')\n",
        "plt.show\n",
        "plt.title(\"Top Names Across Ethnicities\")\n",
        "plt.ylabel(\"Child's First Name\")\n",
        "plt.xlabel(\"Ranking of Usage\")"
      ],
      "execution_count": null,
      "outputs": [
        {
          "output_type": "stream",
          "text": [
            "/usr/local/lib/python3.6/dist-packages/statsmodels/tools/_testing.py:19: FutureWarning: pandas.util.testing is deprecated. Use the functions in the public API at pandas.testing instead.\n",
            "  import pandas.util.testing as tm\n"
          ],
          "name": "stderr"
        },
        {
          "output_type": "execute_result",
          "data": {
            "text/plain": [
              "Text(0.5, 0, 'Ranking of Usage')"
            ]
          },
          "metadata": {
            "tags": []
          },
          "execution_count": 1
        },
        {
          "output_type": "display_data",
          "data": {
            "image/png": "[encoded data removed]",
            "text/plain": [
              "<Figure size 432x288 with 1 Axes>"
            ]
          },
          "metadata": {
            "tags": [],
            "needs_background": "light"
          }
        }
      ]
    },
    {
      "cell_type": "code",
      "metadata": {
        "id": "eaDIFIPsTxTO",
        "colab_type": "code",
        "colab": {
          "base_uri": "https://localhost:8080/",
          "height": 473
        },
        "outputId": "06df4338-96f1-446c-e1c2-ee48259cb698"
      },
      "source": [
        "%matplotlib inline\n",
        "import matplotlib.pyplot as plt\n",
        "import pandas as pd\n",
        "import numpy as np\n",
        "import seaborn as sns\n",
        "baby = pd.read_csv(\"https://data.cityofnewyork.us/api/views/25th-nujf/rows.csv\")\n",
        "baby = baby.replace(['WHITE NON HISP', 'BLACK NON HISP', 'ASIAN AND PACI'],['WHITE NON HISPANIC', 'BLACK NON HISPANIC', 'ASIAN AND PACIFIC ISLANDER'])\n",
        "baby.drop_duplicates(keep='first',inplace=True)\n",
        "baby[\"Child's First Name\"] = baby[\"Child's First Name\"].str.upper()\n",
        "\n",
        "#Grouping Names of \"K's\"\n",
        "KBABY=baby[(baby[\"Child's First Name\"]=='KAYDEN')| (baby[\"Child's First Name\"]=='KAIDEN') |(baby[\"Child's First Name\"]=='CAIDEN')|(baby[\"Child's First Name\"]=='CAYDEN')]\n",
        "KBABY.groupby([\"Child's First Name\", 'Year of Birth'], as_index=False).agg({'Count': 'sum'}).sort_values(by = ['Count'] ,ascending=False)\n",
        "\n",
        "#CATPLOT\n",
        "sns.catplot(x='Year of Birth', y='Count', hue=\"Child's First Name\", data=KBABY, height=6, kind=\"bar\", palette=\"muted\", estimator = sum)\n",
        "\n",
        "#plot descriptors\n",
        "plt.show\n",
        "plt.title('Ways to Spell K')\n",
        "plt.ylabel('Times Name Chosen')\n",
        "plt.xlabel(\"Child's First Name\")\n"
      ],
      "execution_count": null,
      "outputs": [
        {
          "output_type": "execute_result",
          "data": {
            "text/plain": [
              "Text(0.5, 20.800000000000026, \"Child's First Name\")"
            ]
          },
          "metadata": {
            "tags": []
          },
          "execution_count": 64
        },
        {
          "output_type": "display_data",
          "data": {
            "image/png": "[encoded data removed]",
            "text/plain": [
              "<Figure size 530.25x432 with 1 Axes>"
            ]
          },
          "metadata": {
            "tags": [],
            "needs_background": "light"
          }
        }
      ]
    },
    {
      "cell_type": "code",
      "metadata": {
        "id": "1CbvkNyxXpa2",
        "colab_type": "code",
        "colab": {}
      },
      "source": [
        ""
      ],
      "execution_count": null,
      "outputs": []
    },
    {
      "cell_type": "code",
      "metadata": {
        "id": "KEfo1_o5USFI",
        "colab_type": "code",
        "colab": {
          "base_uri": "https://localhost:8080/",
          "height": 473
        },
        "outputId": "13aed772-83cd-4506-ac9e-686c38e95a18"
      },
      "source": [
        "%matplotlib inline\n",
        "import matplotlib.pyplot as plt\n",
        "import pandas as pd\n",
        "import numpy as np\n",
        "import seaborn as sns\n",
        "baby = pd.read_csv(\"https://data.cityofnewyork.us/api/views/25th-nujf/rows.csv\")\n",
        "baby = baby.replace(['WHITE NON HISP', 'BLACK NON HISP', 'ASIAN AND PACI'],['WHITE NON HISPANIC', 'BLACK NON HISPANIC', 'ASIAN AND PACIFIC ISLANDER'])\n",
        "baby.drop_duplicates(keep='first',inplace=True)\n",
        "baby[\"Child's First Name\"] = baby[\"Child's First Name\"].str.upper()\n",
        "\n",
        "#Grouping Names - Michelle, Kourtney, Erika\n",
        "KBABY=baby[(baby[\"Child's First Name\"]=='MICHELLE') |(baby[\"Child's First Name\"]=='KOURTNEY')|(baby[\"Child's First Name\"]=='ERIKA')]\n",
        "KBABY.groupby([\"Child's First Name\", 'Year of Birth'], as_index=False).agg({'Count': 'sum'}).sort_values(by = ['Count'] ,ascending=False)\n",
        "\n",
        "#CATPLOT\n",
        "sns.catplot(x='Year of Birth', y='Count', hue=\"Child's First Name\", data=KBABY, height=6, kind=\"bar\", palette=\"muted\", estimator = sum)\n",
        "\n",
        "#plot descriptors\n",
        "plt.show\n",
        "plt.title('Our Names')\n",
        "plt.ylabel('Times Name Chosen')\n",
        "plt.xlabel(\"Our Names\")"
      ],
      "execution_count": null,
      "outputs": [
        {
          "output_type": "execute_result",
          "data": {
            "text/plain": [
              "Text(0.5, 20.799999999999983, 'Our Names')"
            ]
          },
          "metadata": {
            "tags": []
          },
          "execution_count": 69
        },
        {
          "output_type": "display_data",
          "data": {
            "image/png": "[encoded data removed]",
            "text/plain": [
              "<Figure size 530.25x432 with 1 Axes>"
            ]
          },
          "metadata": {
            "tags": [],
            "needs_background": "light"
          }
        }
      ]
    },
    {
      "cell_type": "code",
      "metadata": {
        "id": "F4yddkn6i2RI",
        "colab_type": "code",
        "colab": {
          "base_uri": "https://localhost:8080/",
          "height": 173
        },
        "outputId": "7fc168cb-8f0d-40e0-9a67-a447739df537"
      },
      "source": [
        "%matplotlib inline\n",
        "import matplotlib.pyplot as plt\n",
        "import pandas as pd\n",
        "import numpy as np\n",
        "baby = pd.read_csv(\"https://data.cityofnewyork.us/api/views/25th-nujf/rows.csv\")\n",
        "baby = baby.replace(['WHITE NON HISP', 'BLACK NON HISP', 'ASIAN AND PACI'],['WHITE NON HISPANIC', 'BLACK NON HISPANIC', 'ASIAN AND PACIFIC ISLANDER'])\n",
        "baby.drop_duplicates(keep='first',inplace=True)\n",
        "baby[\"Child's First Name\"] = baby[\"Child's First Name\"].str.upper()\n",
        "baby_CA = baby[baby[\"Child's First Name\"] == 'ERICA']\n",
        "baby_CA.groupby(['Year of Birth','Ethnicity',\"Child's First Name\"], as_index=False).agg({'Count': 'sum'})"
      ],
      "execution_count": null,
      "outputs": [
        {
          "output_type": "execute_result",
          "data": {
            "text/html": [
              "<div>\n",
              "<style scoped>\n",
              "    .dataframe tbody tr th:only-of-type {\n",
              "        vertical-align: middle;\n",
              "    }\n",
              "\n",
              "    .dataframe tbody tr th {\n",
              "        vertical-align: top;\n",
              "    }\n",
              "\n",
              "    .dataframe thead th {\n",
              "        text-align: right;\n",
              "    }\n",
              "</style>\n",
              "<table border=\"1\" class=\"dataframe\">\n",
              "  <thead>\n",
              "    <tr style=\"text-align: right;\">\n",
              "      <th></th>\n",
              "      <th>Year of Birth</th>\n",
              "      <th>Ethnicity</th>\n",
              "      <th>Child's First Name</th>\n",
              "      <th>Count</th>\n",
              "    </tr>\n",
              "  </thead>\n",
              "  <tbody>\n",
              "    <tr>\n",
              "      <th>0</th>\n",
              "      <td>2011</td>\n",
              "      <td>ASIAN AND PACIFIC ISLANDER</td>\n",
              "      <td>ERICA</td>\n",
              "      <td>19</td>\n",
              "    </tr>\n",
              "    <tr>\n",
              "      <th>1</th>\n",
              "      <td>2012</td>\n",
              "      <td>ASIAN AND PACIFIC ISLANDER</td>\n",
              "      <td>ERICA</td>\n",
              "      <td>23</td>\n",
              "    </tr>\n",
              "    <tr>\n",
              "      <th>2</th>\n",
              "      <td>2014</td>\n",
              "      <td>ASIAN AND PACIFIC ISLANDER</td>\n",
              "      <td>ERICA</td>\n",
              "      <td>12</td>\n",
              "    </tr>\n",
              "    <tr>\n",
              "      <th>3</th>\n",
              "      <td>2015</td>\n",
              "      <td>ASIAN AND PACIFIC ISLANDER</td>\n",
              "      <td>ERICA</td>\n",
              "      <td>11</td>\n",
              "    </tr>\n",
              "  </tbody>\n",
              "</table>\n",
              "</div>"
            ],
            "text/plain": [
              "   Year of Birth                   Ethnicity Child's First Name  Count\n",
              "0           2011  ASIAN AND PACIFIC ISLANDER              ERICA     19\n",
              "1           2012  ASIAN AND PACIFIC ISLANDER              ERICA     23\n",
              "2           2014  ASIAN AND PACIFIC ISLANDER              ERICA     12\n",
              "3           2015  ASIAN AND PACIFIC ISLANDER              ERICA     11"
            ]
          },
          "metadata": {
            "tags": []
          },
          "execution_count": 1
        }
      ]
    },
    {
      "cell_type": "code",
      "metadata": {
        "id": "GKb5Ap5NjCrI",
        "colab_type": "code",
        "colab": {
          "base_uri": "https://localhost:8080/",
          "height": 266
        },
        "outputId": "bbc2299d-5c7a-4d47-a21d-273a6bcc7e57"
      },
      "source": [
        "%matplotlib inline\n",
        "import matplotlib.pyplot as plt\n",
        "import pandas as pd\n",
        "import numpy as np\n",
        "baby = pd.read_csv(\"https://data.cityofnewyork.us/api/views/25th-nujf/rows.csv\")\n",
        "baby = baby.replace(['WHITE NON HISP', 'BLACK NON HISP', 'ASIAN AND PACI'],['WHITE NON HISPANIC', 'BLACK NON HISPANIC', 'ASIAN AND PACIFIC ISLANDER'])\n",
        "baby.drop_duplicates(keep='first',inplace=True)\n",
        "baby[\"Child's First Name\"] = baby[\"Child's First Name\"].str.upper()\n",
        "baby_ka = baby[baby[\"Child's First Name\"] == 'ERIKA']\n",
        "baby_ka.groupby(['Year of Birth','Ethnicity',\"Child's First Name\"], as_index=False).agg({'Count': 'sum'})"
      ],
      "execution_count": null,
      "outputs": [
        {
          "output_type": "execute_result",
          "data": {
            "text/html": [
              "<div>\n",
              "<style scoped>\n",
              "    .dataframe tbody tr th:only-of-type {\n",
              "        vertical-align: middle;\n",
              "    }\n",
              "\n",
              "    .dataframe tbody tr th {\n",
              "        vertical-align: top;\n",
              "    }\n",
              "\n",
              "    .dataframe thead th {\n",
              "        text-align: right;\n",
              "    }\n",
              "</style>\n",
              "<table border=\"1\" class=\"dataframe\">\n",
              "  <thead>\n",
              "    <tr style=\"text-align: right;\">\n",
              "      <th></th>\n",
              "      <th>Year of Birth</th>\n",
              "      <th>Ethnicity</th>\n",
              "      <th>Child's First Name</th>\n",
              "      <th>Count</th>\n",
              "    </tr>\n",
              "  </thead>\n",
              "  <tbody>\n",
              "    <tr>\n",
              "      <th>0</th>\n",
              "      <td>2011</td>\n",
              "      <td>ASIAN AND PACIFIC ISLANDER</td>\n",
              "      <td>ERIKA</td>\n",
              "      <td>12</td>\n",
              "    </tr>\n",
              "    <tr>\n",
              "      <th>1</th>\n",
              "      <td>2011</td>\n",
              "      <td>HISPANIC</td>\n",
              "      <td>ERIKA</td>\n",
              "      <td>15</td>\n",
              "    </tr>\n",
              "    <tr>\n",
              "      <th>2</th>\n",
              "      <td>2012</td>\n",
              "      <td>HISPANIC</td>\n",
              "      <td>ERIKA</td>\n",
              "      <td>11</td>\n",
              "    </tr>\n",
              "    <tr>\n",
              "      <th>3</th>\n",
              "      <td>2013</td>\n",
              "      <td>HISPANIC</td>\n",
              "      <td>ERIKA</td>\n",
              "      <td>11</td>\n",
              "    </tr>\n",
              "    <tr>\n",
              "      <th>4</th>\n",
              "      <td>2014</td>\n",
              "      <td>HISPANIC</td>\n",
              "      <td>ERIKA</td>\n",
              "      <td>13</td>\n",
              "    </tr>\n",
              "    <tr>\n",
              "      <th>5</th>\n",
              "      <td>2015</td>\n",
              "      <td>HISPANIC</td>\n",
              "      <td>ERIKA</td>\n",
              "      <td>13</td>\n",
              "    </tr>\n",
              "    <tr>\n",
              "      <th>6</th>\n",
              "      <td>2016</td>\n",
              "      <td>HISPANIC</td>\n",
              "      <td>ERIKA</td>\n",
              "      <td>13</td>\n",
              "    </tr>\n",
              "  </tbody>\n",
              "</table>\n",
              "</div>"
            ],
            "text/plain": [
              "   Year of Birth                   Ethnicity Child's First Name  Count\n",
              "0           2011  ASIAN AND PACIFIC ISLANDER              ERIKA     12\n",
              "1           2011                    HISPANIC              ERIKA     15\n",
              "2           2012                    HISPANIC              ERIKA     11\n",
              "3           2013                    HISPANIC              ERIKA     11\n",
              "4           2014                    HISPANIC              ERIKA     13\n",
              "5           2015                    HISPANIC              ERIKA     13\n",
              "6           2016                    HISPANIC              ERIKA     13"
            ]
          },
          "metadata": {
            "tags": []
          },
          "execution_count": 2
        }
      ]
    },
    {
      "cell_type": "code",
      "metadata": {
        "id": "_PRrQvsqjNwX",
        "colab_type": "code",
        "colab": {
          "base_uri": "https://localhost:8080/",
          "height": 474
        },
        "outputId": "9fd8bb24-5054-4372-de52-a1156d7dbbaa"
      },
      "source": [
        "%matplotlib inline\n",
        "import matplotlib.pyplot as plt\n",
        "import pandas as pd\n",
        "import numpy as np\n",
        "import seaborn as sns\n",
        "baby = pd.read_csv(\"https://data.cityofnewyork.us/api/views/25th-nujf/rows.csv\")\n",
        "baby = baby.replace(['WHITE NON HISP', 'BLACK NON HISP', 'ASIAN AND PACI'],['WHITE NON HISPANIC', 'BLACK NON HISPANIC', 'ASIAN AND PACIFIC ISLANDER'])\n",
        "baby.drop_duplicates(keep='first',inplace=True)\n",
        "baby[\"Child's First Name\"] = baby[\"Child's First Name\"].str.upper()\n",
        "BABY_KA=baby[(baby[\"Child's First Name\"]=='ERIKA')| (baby[\"Child's First Name\"]=='ERICA')]\n",
        "BABY_KA.groupby([\"Child's First Name\", 'Year of Birth'], as_index=False).agg({'Count': 'sum'}).sort_values(by = ['Count'] ,ascending=False)\n",
        "sns.catplot(x='Year of Birth', y='Count', hue=\"Child's First Name\", data=BABY_KA, height=6, kind=\"bar\", estimator = sum)\n",
        "plt.show\n",
        "plt.title('Erika Vs. Erica')\n",
        "plt.ylabel('Count')\n",
        "plt.xlabel(\"Year of Birth\")"
      ],
      "execution_count": null,
      "outputs": [
        {
          "output_type": "execute_result",
          "data": {
            "text/plain": [
              "Text(0.5, 20.800000000000026, 'Year of Birth')"
            ]
          },
          "metadata": {
            "tags": []
          },
          "execution_count": 5
        },
        {
          "output_type": "display_data",
          "data": {
            "image/png": "[encoded data removed]",
            "text/plain": [
              "<Figure size 530.25x432 with 1 Axes>"
            ]
          },
          "metadata": {
            "tags": [],
            "needs_background": "light"
          }
        }
      ]
    }
  ]
}